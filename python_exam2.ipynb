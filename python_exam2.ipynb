{
  "nbformat": 4,
  "nbformat_minor": 0,
  "metadata": {
    "colab": {
      "provenance": []
    },
    "kernelspec": {
      "name": "python3",
      "display_name": "Python 3"
    },
    "language_info": {
      "name": "python"
    }
  },
  "cells": [
    {
      "cell_type": "markdown",
      "source": [
        "# write a python program to check if a string is palindrome"
      ],
      "metadata": {
        "id": "Cegz-1v9vnZy"
      }
    },
    {
      "cell_type": "code",
      "execution_count": 2,
      "metadata": {
        "colab": {
          "base_uri": "https://localhost:8080/"
        },
        "id": "PxRElC76uBmM",
        "outputId": "74eb5936-5903-4f8a-b78d-03327ba7bb35"
      },
      "outputs": [
        {
          "output_type": "stream",
          "name": "stdout",
          "text": [
            "yes\n"
          ]
        }
      ],
      "source": [
        "s = 'madam'\n",
        "palindrome = s[::-1]\n",
        "if palindrome == s:\n",
        "    print('yes')\n",
        "else:\n",
        "    print('no')"
      ]
    },
    {
      "cell_type": "markdown",
      "source": [
        "# write a python program to find the factorial of number"
      ],
      "metadata": {
        "id": "m0Wo7OQlwkTJ"
      }
    },
    {
      "cell_type": "code",
      "source": [
        "import math\n",
        "print(math.factorial(5))"
      ],
      "metadata": {
        "colab": {
          "base_uri": "https://localhost:8080/"
        },
        "id": "9wXt1GLtwDsB",
        "outputId": "9b665b88-1d81-46bf-e81e-cc2df91ec8bf"
      },
      "execution_count": 5,
      "outputs": [
        {
          "output_type": "stream",
          "name": "stdout",
          "text": [
            "120\n"
          ]
        }
      ]
    },
    {
      "cell_type": "code",
      "source": [
        "import math\n",
        "print(math.factorial(3))"
      ],
      "metadata": {
        "colab": {
          "base_uri": "https://localhost:8080/"
        },
        "id": "7KOzMfSRx_jD",
        "outputId": "908cf5a8-42b6-4d97-e992-fce4c2210f07"
      },
      "execution_count": 7,
      "outputs": [
        {
          "output_type": "stream",
          "name": "stdout",
          "text": [
            "6\n"
          ]
        }
      ]
    },
    {
      "cell_type": "markdown",
      "source": [
        "# write a python program to check largest element in list"
      ],
      "metadata": {
        "id": "O9VFYkKZyZaB"
      }
    },
    {
      "cell_type": "code",
      "source": [
        "list = [10,20,30,40,50]\n",
        "largest = max(list)\n",
        "print(\"the largest element in list is:\",largest)\n"
      ],
      "metadata": {
        "colab": {
          "base_uri": "https://localhost:8080/"
        },
        "id": "DiTW-R0MySHZ",
        "outputId": "70f24c71-cd6f-4128-b52c-e3480cc879f6"
      },
      "execution_count": 32,
      "outputs": [
        {
          "output_type": "stream",
          "name": "stdout",
          "text": [
            "the largest element in list is: 50\n"
          ]
        }
      ]
    },
    {
      "cell_type": "markdown",
      "source": [
        "# program to reverse string"
      ],
      "metadata": {
        "id": "_6hfiZaE0_rj"
      }
    },
    {
      "cell_type": "code",
      "source": [
        "string = 'vamsidhar'\n",
        "rev = string[::-1]\n",
        "print(rev)"
      ],
      "metadata": {
        "colab": {
          "base_uri": "https://localhost:8080/"
        },
        "id": "vU_KWBWByo7h",
        "outputId": "5cab961f-afe6-400a-9af9-8e18e2294843"
      },
      "execution_count": 12,
      "outputs": [
        {
          "output_type": "stream",
          "name": "stdout",
          "text": [
            "rahdismav\n"
          ]
        }
      ]
    },
    {
      "cell_type": "markdown",
      "source": [
        "# write a python program to check a number is prime"
      ],
      "metadata": {
        "id": "spgHMLLI00JD"
      }
    },
    {
      "cell_type": "code",
      "source": [
        "number = 6\n",
        "for i in range(2,number):\n",
        "  if number % i == 0:\n",
        "    print('not prime')\n",
        "    break\n",
        "else:\n",
        "  print('prime')"
      ],
      "metadata": {
        "colab": {
          "base_uri": "https://localhost:8080/"
        },
        "id": "anE5VHh-zWWZ",
        "outputId": "247033e7-db68-4a4a-80f3-478dbda896d9"
      },
      "execution_count": 36,
      "outputs": [
        {
          "output_type": "stream",
          "name": "stdout",
          "text": [
            "not prime\n"
          ]
        }
      ]
    },
    {
      "cell_type": "markdown",
      "source": [
        "# program to find common elements in list"
      ],
      "metadata": {
        "id": "welZfiz_5Ib0"
      }
    },
    {
      "cell_type": "code",
      "source": [
        "list1 = [1,2,3,4,5]\n",
        "list2 = [5,4,6,7,8,9,10]\n",
        "list3 = set(list1)&set(list2)\n",
        "print(list3)"
      ],
      "metadata": {
        "colab": {
          "base_uri": "https://localhost:8080/"
        },
        "id": "XP2OAgzv18Mi",
        "outputId": "24e64aad-7056-4191-a0ac-4abac50f9967"
      },
      "execution_count": 23,
      "outputs": [
        {
          "output_type": "stream",
          "name": "stdout",
          "text": [
            "{4, 5}\n"
          ]
        }
      ]
    },
    {
      "cell_type": "markdown",
      "source": [
        "# program to remove duplicates from list"
      ],
      "metadata": {
        "id": "nGO3JPTM6GKD"
      }
    },
    {
      "cell_type": "code",
      "source": [
        "list = [1,2,2,3,3,4,4,5,5,]\n",
        "duplicates = set(list)\n",
        "print(duplicates)"
      ],
      "metadata": {
        "colab": {
          "base_uri": "https://localhost:8080/"
        },
        "id": "ZiXremwI4A-a",
        "outputId": "392546a4-6c38-4351-bd06-e64a23f3b2e0"
      },
      "execution_count": 25,
      "outputs": [
        {
          "output_type": "stream",
          "name": "stdout",
          "text": [
            "{1, 2, 3, 4, 5}\n"
          ]
        }
      ]
    },
    {
      "cell_type": "markdown",
      "source": [
        "# program to find maximum number in list"
      ],
      "metadata": {
        "id": "VqBKJ_iCAmEl"
      }
    },
    {
      "cell_type": "code",
      "source": [
        "\n",
        "mylist = [1,2,3,4,5,6,7,8]\n",
        "print(max(mylist))"
      ],
      "metadata": {
        "colab": {
          "base_uri": "https://localhost:8080/"
        },
        "id": "_R00nThsATxG",
        "outputId": "e9aaad1d-db29-406b-9ffc-31da489dd0f8"
      },
      "execution_count": 34,
      "outputs": [
        {
          "output_type": "stream",
          "name": "stdout",
          "text": [
            "8\n"
          ]
        }
      ]
    },
    {
      "cell_type": "markdown",
      "source": [
        "# program to find minimum number ina list"
      ],
      "metadata": {
        "id": "ITNmfQdV6gWT"
      }
    },
    {
      "cell_type": "code",
      "source": [
        "list = [22,34,21,45,67]\n",
        "print(min(list))"
      ],
      "metadata": {
        "colab": {
          "base_uri": "https://localhost:8080/"
        },
        "id": "9qGhdl615-mb",
        "outputId": "9bb7185c-dc75-49d7-e785-5a7571d09ec2"
      },
      "execution_count": 26,
      "outputs": [
        {
          "output_type": "stream",
          "name": "stdout",
          "text": [
            "21\n"
          ]
        }
      ]
    },
    {
      "cell_type": "markdown",
      "source": [
        "# write a program to find smallest number in list"
      ],
      "metadata": {
        "id": "lUGGYSmA9pVt"
      }
    },
    {
      "cell_type": "code",
      "source": [
        "a = 10\n",
        "b = 5\n",
        "c = 4\n",
        "if a<b and a<c:\n",
        "  print('a is smallest')\n",
        "elif b<a and b<c:\n",
        "  print('b is smallest')\n",
        "else:\n",
        "  print('c is smallest')\n",
        "\n"
      ],
      "metadata": {
        "colab": {
          "base_uri": "https://localhost:8080/"
        },
        "id": "AUOqdxJ46eUz",
        "outputId": "09f6f601-0d21-44ad-bc6d-107a7739ed9e"
      },
      "execution_count": 29,
      "outputs": [
        {
          "output_type": "stream",
          "name": "stdout",
          "text": [
            "c is smallest\n"
          ]
        }
      ]
    },
    {
      "cell_type": "markdown",
      "source": [
        "# program to count the number of occurrences of a string"
      ],
      "metadata": {
        "id": "MWBQkYaE_Yn1"
      }
    },
    {
      "cell_type": "code",
      "source": [
        "string = \"my name is subbu is learning\"\n",
        "count = string.count('is')\n",
        "print(count)\n"
      ],
      "metadata": {
        "colab": {
          "base_uri": "https://localhost:8080/"
        },
        "id": "TjVlBwl-9Nhk",
        "outputId": "61e3dc59-71bb-47c8-a2e3-adb919838976"
      },
      "execution_count": 31,
      "outputs": [
        {
          "output_type": "stream",
          "name": "stdout",
          "text": [
            "2\n"
          ]
        }
      ]
    },
    {
      "cell_type": "markdown",
      "source": [
        "# program to copy one string to another"
      ],
      "metadata": {
        "id": "V8v4UhdwBFnV"
      }
    },
    {
      "cell_type": "code",
      "source": [
        "string1 = \"my name is subbu\"\n",
        "string2 = string1\n",
        "print(string2)"
      ],
      "metadata": {
        "colab": {
          "base_uri": "https://localhost:8080/"
        },
        "id": "Jt-K0KVq_USs",
        "outputId": "5c49aece-28eb-4dd3-c252-db6f4834340c"
      },
      "execution_count": 45,
      "outputs": [
        {
          "output_type": "stream",
          "name": "stdout",
          "text": [
            "my name is subbu\n"
          ]
        }
      ]
    },
    {
      "cell_type": "code",
      "source": [],
      "metadata": {
        "id": "n_XW_ygfB8V1"
      },
      "execution_count": null,
      "outputs": []
    }
  ]
}