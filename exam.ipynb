{
  "nbformat": 4,
  "nbformat_minor": 0,
  "metadata": {
    "colab": {
      "provenance": []
    },
    "kernelspec": {
      "name": "python3",
      "display_name": "Python 3"
    },
    "language_info": {
      "name": "python"
    }
  },
  "cells": [
    {
      "cell_type": "markdown",
      "source": [
        "Python:\n",
        "python is a commonly used programming language\n",
        "It is an interpreted language.\n",
        "Benefits of using python\n",
        "python is very easy.\n",
        "It can easily learnt by anyone."
      ],
      "metadata": {
        "id": "gP9qKxyiruax"
      }
    },
    {
      "cell_type": "code",
      "execution_count": 1,
      "metadata": {
        "id": "dYoG4Xabroks"
      },
      "outputs": [],
      "source": [
        "# Interpreted language\n",
        "# An interpreted language is a programming language\n",
        "# that does not require any compilation before execution"
      ]
    },
    {
      "cell_type": "code",
      "source": [
        "# Lists:\n",
        "# Lists is a datatype that is collection of values/elements/items.\n",
        "# it is ordered datatype,it is mutable.\n",
        "# It can be represented by square bracks[],each and every element\n",
        "# separted by using comma(,).\n",
        "# Tuples:\n",
        "# Tuples is an ordered datatype,which is immuatble.\n",
        "# It is represented by using paranthesis() and every element separated by comma(,).\n",
        "# Differences:\n",
        "# Main diference is list is mutable(which can change,modify) whereas tuple is immutable.\n",
        "# second difference is lists represents by [], and tuples represents()."
      ],
      "metadata": {
        "id": "iWNYBbKos3Ca"
      },
      "execution_count": 2,
      "outputs": []
    },
    {
      "cell_type": "code",
      "source": [
        "# Datatype\n",
        "# There are mainly two types of datatypes.\n",
        "# 1.basic data types(int,float,complex,boolean)\n",
        "# 2.advance data types(lists,string,dictionary,tuples,set)"
      ],
      "metadata": {
        "id": "mzVFuvwxwH_x"
      },
      "execution_count": 3,
      "outputs": []
    },
    {
      "cell_type": "code",
      "source": [
        "# '#' symbol is used for describe comments on a program.\n",
        "# it is the symbol of comments.\n"
      ],
      "metadata": {
        "id": "mQ-Dd_V1w4Y0"
      },
      "execution_count": 4,
      "outputs": []
    },
    {
      "cell_type": "code",
      "source": [
        "# Mutable data type\n",
        "# Mutable means we can change or modify the data after we created.\n",
        "# Immutable\n",
        "# Immutable means we cannot chane or modify after we created."
      ],
      "metadata": {
        "id": "PrNpSji6xK8P"
      },
      "execution_count": 5,
      "outputs": []
    },
    {
      "cell_type": "code",
      "source": [
        "# SEt is a collection of unique elements that duplicates will remove automatically\n",
        "# Dictionary is a collection of key value pairs.\n"
      ],
      "metadata": {
        "id": "BMWn4lohx-sK"
      },
      "execution_count": 6,
      "outputs": []
    },
    {
      "cell_type": "code",
      "source": [
        "# / it is the symbol of division\n",
        "# // It is the symbol of floor division"
      ],
      "metadata": {
        "id": "1mT9DY5lzL_d"
      },
      "execution_count": 7,
      "outputs": []
    },
    {
      "cell_type": "code",
      "source": [
        "# Dictionary is  collection of key value pairs ,1 key value pair is called as item.\n",
        "# But list is a collection of elements,it is represented by []\n",
        "# Differences:\n",
        "# 1.lists represents by [], whereas dictionary represents{}\n",
        "# 2.lists are ordred and dictionary is unorderd."
      ],
      "metadata": {
        "id": "_Z41K2VMzpt4"
      },
      "execution_count": 8,
      "outputs": []
    },
    {
      "cell_type": "code",
      "source": [
        "# We use tuple when immutablity is requied,and tuple are faster then lists and dictionary\n",
        "# We use dictionary when we require key value pairs is required.\n",
        "# We use lists when we need an order of elements ."
      ],
      "metadata": {
        "id": "_ofFg2vc1wav"
      },
      "execution_count": 10,
      "outputs": []
    },
    {
      "cell_type": "code",
      "source": [
        " # strings are immutable which cannot modify but we can use some string methods.\n",
        " name = 'subbu'\n",
        "print(name.upper())\n"
      ],
      "metadata": {
        "colab": {
          "base_uri": "https://localhost:8080/"
        },
        "id": "N4YCU9142itS",
        "outputId": "c8644149-3431-4cba-976d-2fc1f29adcaf"
      },
      "execution_count": 12,
      "outputs": [
        {
          "output_type": "stream",
          "name": "stdout",
          "text": [
            "SUBBU\n"
          ]
        }
      ]
    },
    {
      "cell_type": "code",
      "source": [
        "# Index is used to access an element from a list.\n",
        "# There are two types of index in python\n",
        "# one is positive \"index\"\n",
        "# another one is \"negative index\""
      ],
      "metadata": {
        "id": "Yv3jDSHq3LYv"
      },
      "execution_count": 14,
      "outputs": []
    },
    {
      "cell_type": "code",
      "source": [
        "# Negative index\n",
        "# Negative index stars from right to left(-1,-2,-3,-4)and so on."
      ],
      "metadata": {
        "id": "Db41KOzE3u8Z"
      },
      "execution_count": 15,
      "outputs": []
    },
    {
      "cell_type": "code",
      "source": [
        "# Slicing:\n",
        "# Slicing is used to access multiple elements from a list."
      ],
      "metadata": {
        "id": "kdLMhDnI4JwE"
      },
      "execution_count": 16,
      "outputs": []
    },
    {
      "cell_type": "code",
      "source": [
        "# Keywords\n",
        "# Keywords are special words we cant use it unnecessarily,but we can use it when necessary\n",
        "# keywords are in lowerr format\n",
        "# Example for keywords:True,False,if,elseif,and,as,and,or,import,return....."
      ],
      "metadata": {
        "id": "P2ToaMBZ4muu"
      },
      "execution_count": 17,
      "outputs": []
    },
    {
      "cell_type": "code",
      "source": [
        "# variables\n",
        "# Variables is used to store elements in a variable."
      ],
      "metadata": {
        "id": "vwxxwGy75R6b"
      },
      "execution_count": 18,
      "outputs": []
    },
    {
      "cell_type": "code",
      "source": [
        "# Rules to create variables:\n",
        "# variables can be created by alpha numeric characters\n",
        "# it cannot start with digits\n",
        "# it cannot starts with special characters except\"_\".\n",
        "# keywords cannot used to craete variable\n",
        "# Finally variable is a case sensitive."
      ],
      "metadata": {
        "id": "cVMTNOlQ5d2E"
      },
      "execution_count": 19,
      "outputs": []
    },
    {
      "cell_type": "code",
      "source": [
        "# operators:\n",
        "# operators are used to perform operations on variables and values.\n",
        "# examples(arithmetic,assignment,comparison,logical,identity,membership,bitwise)"
      ],
      "metadata": {
        "id": "204jjCOF5_NP"
      },
      "execution_count": 20,
      "outputs": []
    },
    {
      "cell_type": "code",
      "source": [
        "# Logical operators:\n",
        "# Logical operators is used to compare two values and retuyrns a boolean result.\n",
        "# Examples:AND,OR,NOT\n",
        "x = 5\n",
        "y = 6\n",
        "print(x>2 and y>5)"
      ],
      "metadata": {
        "colab": {
          "base_uri": "https://localhost:8080/"
        },
        "id": "gHJkIIgt6dtC",
        "outputId": "af057c01-5e05-48ea-b043-e58821cbb7df"
      },
      "execution_count": 21,
      "outputs": [
        {
          "output_type": "stream",
          "name": "stdout",
          "text": [
            "True\n"
          ]
        }
      ]
    },
    {
      "cell_type": "code",
      "source": [
        "# Lambda is a unknown function that can defined with large expression"
      ],
      "metadata": {
        "id": "u8CKko_U7SOh"
      },
      "execution_count": 22,
      "outputs": []
    },
    {
      "cell_type": "code",
      "source": [
        "# Conditional statements is simply known as decision making statements.\n"
      ],
      "metadata": {
        "id": "3GGJsHO-72_n"
      },
      "execution_count": 28,
      "outputs": []
    },
    {
      "cell_type": "code",
      "source": [
        "# To write comments in python we can simply use hashtag symbol'#'."
      ],
      "metadata": {
        "id": "078sOjcM8nO9"
      },
      "execution_count": 29,
      "outputs": []
    },
    {
      "cell_type": "code",
      "source": [
        "# to capitalize the first letter ina string we use capitalize function.\n",
        "name=\"subbu\"\n",
        "name.capitalize()"
      ],
      "metadata": {
        "colab": {
          "base_uri": "https://localhost:8080/",
          "height": 36
        },
        "id": "mZ-GuDr_9svq",
        "outputId": "2dbfe458-d72f-4dc9-fb91-c07ab56e63e5"
      },
      "execution_count": 30,
      "outputs": [
        {
          "output_type": "execute_result",
          "data": {
            "text/plain": [
              "'Subbu'"
            ],
            "application/vnd.google.colaboratory.intrinsic+json": {
              "type": "string"
            }
          },
          "metadata": {},
          "execution_count": 30
        }
      ]
    },
    {
      "cell_type": "code",
      "source": [
        "# BY USING casefold() function we can convert all lower in a string.\n",
        "name = \"SUBBU\"\n",
        "name.casefold()"
      ],
      "metadata": {
        "colab": {
          "base_uri": "https://localhost:8080/",
          "height": 36
        },
        "id": "GKCR2_Gr96ul",
        "outputId": "dde6dbc4-21f3-4afb-adf9-0be791f0dc65"
      },
      "execution_count": 32,
      "outputs": [
        {
          "output_type": "execute_result",
          "data": {
            "text/plain": [
              "'subbu'"
            ],
            "application/vnd.google.colaboratory.intrinsic+json": {
              "type": "string"
            }
          },
          "metadata": {},
          "execution_count": 32
        }
      ]
    },
    {
      "cell_type": "code",
      "source": [
        "# To write multiple comments in python we use trple quotes(\"\"\")"
      ],
      "metadata": {
        "id": "UAS1-gX4-etX"
      },
      "execution_count": 33,
      "outputs": []
    },
    {
      "cell_type": "code",
      "source": [
        "list = [1,2,3,4,5]\n",
        "list.remove(1)\n",
        "print(list)"
      ],
      "metadata": {
        "colab": {
          "base_uri": "https://localhost:8080/"
        },
        "id": "FttIX9T5-zmT",
        "outputId": "74c3db26-190b-446a-c107-8b227289aa70"
      },
      "execution_count": 40,
      "outputs": [
        {
          "output_type": "stream",
          "name": "stdout",
          "text": [
            "[2, 3, 4, 5]\n"
          ]
        }
      ]
    },
    {
      "cell_type": "code",
      "source": [
        "list.clear()\n",
        "print(list)"
      ],
      "metadata": {
        "colab": {
          "base_uri": "https://localhost:8080/"
        },
        "id": "1RZGYpH2--Bm",
        "outputId": "d2526618-4b00-40bc-c426-e9f19dbce15f"
      },
      "execution_count": 41,
      "outputs": [
        {
          "output_type": "stream",
          "name": "stdout",
          "text": [
            "[]\n"
          ]
        }
      ]
    },
    {
      "cell_type": "code",
      "source": [
        "numbers = [1,2,3,4,5]\n",
        "print(\"largest number in list:\",max(numbers))"
      ],
      "metadata": {
        "colab": {
          "base_uri": "https://localhost:8080/"
        },
        "id": "GtPXImJ8_81A",
        "outputId": "6a4139cb-624b-4b69-e3a5-6179de5ea0cf"
      },
      "execution_count": 44,
      "outputs": [
        {
          "output_type": "stream",
          "name": "stdout",
          "text": [
            "largest number in list: 5\n"
          ]
        }
      ]
    },
    {
      "cell_type": "code",
      "source": [
        "str = \"hello world\"\n",
        "reverse = str[::-1]\n",
        "print(reverse)"
      ],
      "metadata": {
        "colab": {
          "base_uri": "https://localhost:8080/"
        },
        "id": "LsbyPTOMA1Cj",
        "outputId": "51e56157-48ed-472e-99d6-e3f21bbf58d2"
      },
      "execution_count": 50,
      "outputs": [
        {
          "output_type": "stream",
          "name": "stdout",
          "text": [
            "dlrow olleh\n"
          ]
        }
      ]
    },
    {
      "cell_type": "code",
      "source": [
        "numbers = [1,2,3,3,4,5,6,6]\n"
      ],
      "metadata": {
        "colab": {
          "base_uri": "https://localhost:8080/",
          "height": 176
        },
        "id": "Ypzi94mIDFOK",
        "outputId": "4202e609-c03d-4fd1-929d-dfa8a2d2ea93"
      },
      "execution_count": 59,
      "outputs": [
        {
          "output_type": "error",
          "ename": "NameError",
          "evalue": "name 'remove_duplicates' is not defined",
          "traceback": [
            "\u001b[0;31m---------------------------------------------------------------------------\u001b[0m",
            "\u001b[0;31mNameError\u001b[0m                                 Traceback (most recent call last)",
            "\u001b[0;32m<ipython-input-59-58ded98352e3>\u001b[0m in \u001b[0;36m<cell line: 2>\u001b[0;34m()\u001b[0m\n\u001b[1;32m      1\u001b[0m \u001b[0mnumbers\u001b[0m \u001b[0;34m=\u001b[0m \u001b[0;34m[\u001b[0m\u001b[0;36m1\u001b[0m\u001b[0;34m,\u001b[0m\u001b[0;36m2\u001b[0m\u001b[0;34m,\u001b[0m\u001b[0;36m3\u001b[0m\u001b[0;34m,\u001b[0m\u001b[0;36m3\u001b[0m\u001b[0;34m,\u001b[0m\u001b[0;36m4\u001b[0m\u001b[0;34m,\u001b[0m\u001b[0;36m5\u001b[0m\u001b[0;34m,\u001b[0m\u001b[0;36m6\u001b[0m\u001b[0;34m,\u001b[0m\u001b[0;36m6\u001b[0m\u001b[0;34m]\u001b[0m\u001b[0;34m\u001b[0m\u001b[0;34m\u001b[0m\u001b[0m\n\u001b[0;32m----> 2\u001b[0;31m \u001b[0munq\u001b[0m \u001b[0;34m=\u001b[0m \u001b[0mremove_duplicates\u001b[0m\u001b[0;34m(\u001b[0m\u001b[0mnumbers\u001b[0m\u001b[0;34m)\u001b[0m\u001b[0;34m\u001b[0m\u001b[0;34m\u001b[0m\u001b[0m\n\u001b[0m\u001b[1;32m      3\u001b[0m \u001b[0mprint\u001b[0m\u001b[0;34m(\u001b[0m\u001b[0munq\u001b[0m\u001b[0;34m)\u001b[0m\u001b[0;34m\u001b[0m\u001b[0;34m\u001b[0m\u001b[0m\n",
            "\u001b[0;31mNameError\u001b[0m: name 'remove_duplicates' is not defined"
          ]
        }
      ]
    },
    {
      "cell_type": "code",
      "source": [],
      "metadata": {
        "id": "MWCNHkg8FB83"
      },
      "execution_count": null,
      "outputs": []
    }
  ]
}