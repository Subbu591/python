{
  "nbformat": 4,
  "nbformat_minor": 0,
  "metadata": {
    "colab": {
      "provenance": []
    },
    "kernelspec": {
      "name": "python3",
      "display_name": "Python 3"
    },
    "language_info": {
      "name": "python"
    }
  },
  "cells": [
    {
      "cell_type": "markdown",
      "source": [
        "\n",
        "\n",
        "> Add blockquote\n",
        "# Tuple\n",
        "# Tuple is a datatype represents an unordered,immutable sequence of elements.\n",
        "# They are defined using paranthesis() and elements are must separated by commas.\n"
      ],
      "metadata": {
        "id": "5-Plj3ZSwSix"
      }
    },
    {
      "cell_type": "code",
      "execution_count": 2,
      "metadata": {
        "colab": {
          "base_uri": "https://localhost:8080/"
        },
        "id": "ettEUboLpVPi",
        "outputId": "b8a65e93-71f8-4f30-8994-2774e4aa3be7"
      },
      "outputs": [
        {
          "output_type": "execute_result",
          "data": {
            "text/plain": [
              "tuple"
            ]
          },
          "metadata": {},
          "execution_count": 2
        }
      ],
      "source": [
        "#examples:\n",
        "fruits = (32,'subbu',3.14)\n",
        "type(fruits)"
      ]
    },
    {
      "cell_type": "code",
      "source": [
        "animals = ('tiger','lion','elephant')\n",
        "type(animals)"
      ],
      "metadata": {
        "colab": {
          "base_uri": "https://localhost:8080/"
        },
        "id": "lST1_9I6qTKk",
        "outputId": "e36736b2-8959-49ec-d30a-eef8ad64fdc9"
      },
      "execution_count": 3,
      "outputs": [
        {
          "output_type": "execute_result",
          "data": {
            "text/plain": [
              "tuple"
            ]
          },
          "metadata": {},
          "execution_count": 3
        }
      ]
    },
    {
      "cell_type": "code",
      "source": [
        "birds = ('parrot','Dove')\n",
        "type(birds)"
      ],
      "metadata": {
        "colab": {
          "base_uri": "https://localhost:8080/"
        },
        "id": "zp2i7xBZql8Y",
        "outputId": "aa5e1a4d-2ce3-4510-f5b9-6231310adb1d"
      },
      "execution_count": 4,
      "outputs": [
        {
          "output_type": "execute_result",
          "data": {
            "text/plain": [
              "tuple"
            ]
          },
          "metadata": {},
          "execution_count": 4
        }
      ]
    },
    {
      "cell_type": "code",
      "source": [
        "# Accessing of tuples"
      ],
      "metadata": {
        "id": "iKCLOP1wrISL"
      },
      "execution_count": 5,
      "outputs": []
    },
    {
      "cell_type": "code",
      "source": [
        "fruits=(\"apple\",\"banana\",\"guava\",\"mango\")\n",
        "print(fruits[1])"
      ],
      "metadata": {
        "colab": {
          "base_uri": "https://localhost:8080/"
        },
        "id": "IUfBUqY6rTGj",
        "outputId": "937ceb9a-a3f1-4421-fcdd-fdf53ebc3c6f"
      },
      "execution_count": 7,
      "outputs": [
        {
          "output_type": "stream",
          "name": "stdout",
          "text": [
            "banana\n"
          ]
        }
      ]
    },
    {
      "cell_type": "code",
      "source": [
        "print(fruits[2])"
      ],
      "metadata": {
        "colab": {
          "base_uri": "https://localhost:8080/"
        },
        "id": "mUESW0b-rjFh",
        "outputId": "a693ab09-6d83-45d3-d471-6c760284e97d"
      },
      "execution_count": 8,
      "outputs": [
        {
          "output_type": "stream",
          "name": "stdout",
          "text": [
            "guava\n"
          ]
        }
      ]
    },
    {
      "cell_type": "code",
      "source": [
        "print(fruits[3])"
      ],
      "metadata": {
        "colab": {
          "base_uri": "https://localhost:8080/"
        },
        "id": "-1fZKMAbrv53",
        "outputId": "844d21cc-e87b-4d73-9410-27afc2d92b54"
      },
      "execution_count": 9,
      "outputs": [
        {
          "output_type": "stream",
          "name": "stdout",
          "text": [
            "mango\n"
          ]
        }
      ]
    },
    {
      "cell_type": "code",
      "source": [
        "print(fruits[0])"
      ],
      "metadata": {
        "colab": {
          "base_uri": "https://localhost:8080/"
        },
        "id": "gqfdwA-vrzHH",
        "outputId": "ece1a10a-3d9b-45af-a909-233ac1a6c55c"
      },
      "execution_count": 10,
      "outputs": [
        {
          "output_type": "stream",
          "name": "stdout",
          "text": [
            "apple\n"
          ]
        }
      ]
    },
    {
      "cell_type": "code",
      "source": [
        "# Slicing\n",
        "print(fruits[0:5])"
      ],
      "metadata": {
        "colab": {
          "base_uri": "https://localhost:8080/"
        },
        "id": "5G40dnBkr2nl",
        "outputId": "35d172c7-038f-4539-d2bf-97480bc10c61"
      },
      "execution_count": 11,
      "outputs": [
        {
          "output_type": "stream",
          "name": "stdout",
          "text": [
            "('apple', 'banana', 'guava', 'mango')\n"
          ]
        }
      ]
    },
    {
      "cell_type": "code",
      "source": [
        "print(fruits[0:2])"
      ],
      "metadata": {
        "colab": {
          "base_uri": "https://localhost:8080/"
        },
        "id": "n_EkPei8r_XV",
        "outputId": "da2a7f87-2b1b-4e70-ec50-4f10388c593f"
      },
      "execution_count": 12,
      "outputs": [
        {
          "output_type": "stream",
          "name": "stdout",
          "text": [
            "('apple', 'banana')\n"
          ]
        }
      ]
    },
    {
      "cell_type": "code",
      "source": [
        "# operations\n",
        "# 1.Concatenation\n",
        "#  its nothing but combining of two tuples\n",
        "tuple1 = (1,2,3,4)\n",
        "tuple2 = (5,6,7,8)\n",
        "print(tuple1+tuple2)"
      ],
      "metadata": {
        "colab": {
          "base_uri": "https://localhost:8080/"
        },
        "id": "mQFzjmVZsFEk",
        "outputId": "0ff32e95-19c7-4309-82d3-711d1fafc04c"
      },
      "execution_count": 13,
      "outputs": [
        {
          "output_type": "stream",
          "name": "stdout",
          "text": [
            "(1, 2, 3, 4, 5, 6, 7, 8)\n"
          ]
        }
      ]
    },
    {
      "cell_type": "code",
      "source": [
        "a = ('subbu','laxman')\n",
        "b = ('aska','reena')\n",
        "print(a+b)"
      ],
      "metadata": {
        "colab": {
          "base_uri": "https://localhost:8080/"
        },
        "id": "wiyEt_sustZg",
        "outputId": "282c19b6-dd9f-4c2c-9314-906d053e3b0a"
      },
      "execution_count": 14,
      "outputs": [
        {
          "output_type": "stream",
          "name": "stdout",
          "text": [
            "('subbu', 'laxman', 'aska', 'reena')\n"
          ]
        }
      ]
    },
    {
      "cell_type": "code",
      "source": [
        "# Repetition\n",
        "# Repeating a tuple with mentioned times is called repetition\n",
        "tuple1 = (1,2,3.14)\n",
        "print(tuple1*8)"
      ],
      "metadata": {
        "colab": {
          "base_uri": "https://localhost:8080/"
        },
        "id": "JVRr4ziSs6J2",
        "outputId": "24269f9f-3811-467d-95b9-665bbf8eb22d"
      },
      "execution_count": 16,
      "outputs": [
        {
          "output_type": "stream",
          "name": "stdout",
          "text": [
            "(1, 2, 3.14, 1, 2, 3.14, 1, 2, 3.14, 1, 2, 3.14, 1, 2, 3.14, 1, 2, 3.14, 1, 2, 3.14, 1, 2, 3.14)\n"
          ]
        }
      ]
    },
    {
      "cell_type": "code",
      "source": [
        "tuple2=('subbu',)\n",
        "print(tuple2*5)"
      ],
      "metadata": {
        "colab": {
          "base_uri": "https://localhost:8080/"
        },
        "id": "-pM1G6eDtRCz",
        "outputId": "bc3acb03-1ae0-48e5-ce08-9a277ae41db9"
      },
      "execution_count": 17,
      "outputs": [
        {
          "output_type": "stream",
          "name": "stdout",
          "text": [
            "('subbu', 'subbu', 'subbu', 'subbu', 'subbu')\n"
          ]
        }
      ]
    },
    {
      "cell_type": "markdown",
      "source": [
        "Tuple methods\n",
        "1.Index:returns the index of first occurrence of specified value\n",
        "2.count:returns the number of occurrencies of specified value"
      ],
      "metadata": {
        "id": "ir_scCDVt6--"
      }
    },
    {
      "cell_type": "markdown",
      "source": [],
      "metadata": {
        "id": "jDNsNBSXucZj"
      }
    },
    {
      "cell_type": "code",
      "source": [
        "# index\n",
        "names = (11,22,33,44,55)\n",
        "i = names.index(44)\n",
        "print(i)"
      ],
      "metadata": {
        "colab": {
          "base_uri": "https://localhost:8080/"
        },
        "id": "AS2zIuqLtgjp",
        "outputId": "a7735939-950a-4535-8748-30fb22a61c96"
      },
      "execution_count": 19,
      "outputs": [
        {
          "output_type": "stream",
          "name": "stdout",
          "text": [
            "3\n"
          ]
        }
      ]
    },
    {
      "cell_type": "code",
      "source": [
        "print(names.index(33))"
      ],
      "metadata": {
        "colab": {
          "base_uri": "https://localhost:8080/"
        },
        "id": "97onLM4Nu4n_",
        "outputId": "12c7b45a-b359-485d-d769-a932be4a7170"
      },
      "execution_count": 21,
      "outputs": [
        {
          "output_type": "stream",
          "name": "stdout",
          "text": [
            "2\n"
          ]
        }
      ]
    },
    {
      "cell_type": "code",
      "source": [
        "print(names.index(11))"
      ],
      "metadata": {
        "colab": {
          "base_uri": "https://localhost:8080/"
        },
        "id": "uwnK99JfvLOF",
        "outputId": "fb8bddc0-30ae-4c9a-9b05-6feebdac2eca"
      },
      "execution_count": 22,
      "outputs": [
        {
          "output_type": "stream",
          "name": "stdout",
          "text": [
            "0\n"
          ]
        }
      ]
    },
    {
      "cell_type": "code",
      "source": [
        "print(names.index(55))"
      ],
      "metadata": {
        "colab": {
          "base_uri": "https://localhost:8080/"
        },
        "id": "az-kHlblvXFU",
        "outputId": "71374330-7518-4cf9-f7ef-5f9c28e580ed"
      },
      "execution_count": 23,
      "outputs": [
        {
          "output_type": "stream",
          "name": "stdout",
          "text": [
            "4\n"
          ]
        }
      ]
    },
    {
      "cell_type": "code",
      "source": [
        "print(names.index(22))"
      ],
      "metadata": {
        "colab": {
          "base_uri": "https://localhost:8080/"
        },
        "id": "wzk6ynMMvagE",
        "outputId": "a75fd33f-27c8-40f6-9412-956c7d2ff531"
      },
      "execution_count": 24,
      "outputs": [
        {
          "output_type": "stream",
          "name": "stdout",
          "text": [
            "1\n"
          ]
        }
      ]
    },
    {
      "cell_type": "code",
      "source": [
        "# Count\n",
        "number = (11,22,33,11,11,45,664,433)\n",
        "print(number.count(11))"
      ],
      "metadata": {
        "colab": {
          "base_uri": "https://localhost:8080/"
        },
        "id": "d2XMYf2Zvioj",
        "outputId": "398b9d2b-edd2-497f-8462-72dc344b4ec4"
      },
      "execution_count": 26,
      "outputs": [
        {
          "output_type": "stream",
          "name": "stdout",
          "text": [
            "3\n"
          ]
        }
      ]
    },
    {
      "cell_type": "code",
      "source": [
        "print(number.count(433))"
      ],
      "metadata": {
        "colab": {
          "base_uri": "https://localhost:8080/"
        },
        "id": "L-SZ8QLwv0pq",
        "outputId": "2c3afe0d-98f0-42a0-c279-40460a0c3357"
      },
      "execution_count": 27,
      "outputs": [
        {
          "output_type": "stream",
          "name": "stdout",
          "text": [
            "1\n"
          ]
        }
      ]
    },
    {
      "cell_type": "code",
      "source": [
        "print(number.count(45))"
      ],
      "metadata": {
        "colab": {
          "base_uri": "https://localhost:8080/"
        },
        "id": "BnIsMdiQwAqg",
        "outputId": "c5759095-5203-49d6-a0c9-802246ff1495"
      },
      "execution_count": 28,
      "outputs": [
        {
          "output_type": "stream",
          "name": "stdout",
          "text": [
            "1\n"
          ]
        }
      ]
    },
    {
      "cell_type": "code",
      "source": [],
      "metadata": {
        "id": "CUGbzCiqwGEA"
      },
      "execution_count": null,
      "outputs": []
    }
  ]
}