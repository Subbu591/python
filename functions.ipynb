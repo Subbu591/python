{
  "nbformat": 4,
  "nbformat_minor": 0,
  "metadata": {
    "colab": {
      "provenance": []
    },
    "kernelspec": {
      "name": "python3",
      "display_name": "Python 3"
    },
    "language_info": {
      "name": "python"
    }
  },
  "cells": [
    {
      "cell_type": "code",
      "execution_count": 10,
      "metadata": {
        "id": "y1QLXCKbfwAN"
      },
      "outputs": [],
      "source": [
        "def aska():\n",
        "  print(\"my name is aska\")\n",
        ""
      ]
    },
    {
      "cell_type": "code",
      "source": [
        "aska()"
      ],
      "metadata": {
        "colab": {
          "base_uri": "https://localhost:8080/"
        },
        "id": "JL54j1cLgK3F",
        "outputId": "3cb06a04-adb9-48d5-dc3a-c627787397e9"
      },
      "execution_count": 11,
      "outputs": [
        {
          "output_type": "stream",
          "name": "stdout",
          "text": [
            "my name is aska\n"
          ]
        }
      ]
    },
    {
      "cell_type": "code",
      "source": [
        "def sub(n,z):\n",
        "  sub = n-z\n",
        "  print(sub)\n",
        "sub(7,8)\n"
      ],
      "metadata": {
        "colab": {
          "base_uri": "https://localhost:8080/"
        },
        "id": "O7rHtZFRgSPU",
        "outputId": "f0d70245-11e3-47b6-8f0e-be1dd588a107"
      },
      "execution_count": 17,
      "outputs": [
        {
          "output_type": "stream",
          "name": "stdout",
          "text": [
            "-1\n"
          ]
        }
      ]
    },
    {
      "cell_type": "code",
      "source": [
        "def student(name,age,location):\n",
        "  print(f'student name is {name} and age is {age} and his location is {location}')\n",
        "student('vamsi',34,'hyd')"
      ],
      "metadata": {
        "colab": {
          "base_uri": "https://localhost:8080/"
        },
        "id": "Kzg8rHqKhDwV",
        "outputId": "db7e8b2e-77ba-443b-91ff-4007119b0df6"
      },
      "execution_count": 19,
      "outputs": [
        {
          "output_type": "stream",
          "name": "stdout",
          "text": [
            "student name is vamsi and age is 34 and his location is hyd\n"
          ]
        }
      ]
    },
    {
      "cell_type": "code",
      "source": [
        "def tiger(place,diet,task):\n",
        "  print(f'tiger place is {place}and diet is {diet}and his task is {task}')\n",
        "tiger('forest','gaur buffalo','sleep')"
      ],
      "metadata": {
        "colab": {
          "base_uri": "https://localhost:8080/"
        },
        "id": "A1QpvKHFhZzs",
        "outputId": "cf4a52ea-02f8-41dc-fb97-735961215693"
      },
      "execution_count": 21,
      "outputs": [
        {
          "output_type": "stream",
          "name": "stdout",
          "text": [
            "tiger place is forestand diet is gaur buffaloand his task is sleep\n"
          ]
        }
      ]
    },
    {
      "cell_type": "code",
      "source": [
        "x = lambda y:y*10\n",
        "print(x(5))"
      ],
      "metadata": {
        "colab": {
          "base_uri": "https://localhost:8080/"
        },
        "id": "qpKyMAX2jZNM",
        "outputId": "4c302605-6d8f-4ebf-bf40-2147c469d139"
      },
      "execution_count": 22,
      "outputs": [
        {
          "output_type": "stream",
          "name": "stdout",
          "text": [
            "50\n"
          ]
        }
      ]
    },
    {
      "cell_type": "code",
      "source": [
        "def adding(a,b,c):\n",
        "  return lambda a,b,c:a-b-c\n",
        "u = adding(10,3,5)\n",
        "u(10,3,5)"
      ],
      "metadata": {
        "colab": {
          "base_uri": "https://localhost:8080/"
        },
        "id": "cRd4i-kvj1f0",
        "outputId": "bc6674d1-b92a-495c-fb2c-a68c4869393e"
      },
      "execution_count": 26,
      "outputs": [
        {
          "output_type": "execute_result",
          "data": {
            "text/plain": [
              "2"
            ]
          },
          "metadata": {},
          "execution_count": 26
        }
      ]
    },
    {
      "cell_type": "code",
      "source": [],
      "metadata": {
        "id": "gr37I4DJkLU0"
      },
      "execution_count": null,
      "outputs": []
    }
  ]
}