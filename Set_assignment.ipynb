{
  "nbformat": 4,
  "nbformat_minor": 0,
  "metadata": {
    "colab": {
      "provenance": []
    },
    "kernelspec": {
      "name": "python3",
      "display_name": "Python 3"
    },
    "language_info": {
      "name": "python"
    }
  },
  "cells": [
    {
      "cell_type": "markdown",
      "source": [
        "# SETS\n",
        "sets is simply known as collection of unique elements which does not allows duplicates.\n",
        "It is mutable,and unordered datatype\n",
        "it can be represented by curly brackets{} each and every elements separated by comma(,)"
      ],
      "metadata": {
        "id": "RCT592Unrwtk"
      }
    },
    {
      "cell_type": "code",
      "execution_count": 1,
      "metadata": {
        "colab": {
          "base_uri": "https://localhost:8080/"
        },
        "id": "cjmOfjoYrlm2",
        "outputId": "6b8d47e3-1780-4665-b007-c39ae2973f22"
      },
      "outputs": [
        {
          "output_type": "execute_result",
          "data": {
            "text/plain": [
              "set"
            ]
          },
          "metadata": {},
          "execution_count": 1
        }
      ],
      "source": [
        "fruits={'banana','apple','mango'}\n",
        "type(fruits)"
      ]
    },
    {
      "cell_type": "code",
      "source": [
        "numbers={1,2,3,3,4,5,6,6,7}\n",
        "type(numbers)"
      ],
      "metadata": {
        "colab": {
          "base_uri": "https://localhost:8080/"
        },
        "id": "rV1q94cFsylc",
        "outputId": "da326f88-a865-4c95-8ef3-b81a3b2a5565"
      },
      "execution_count": 8,
      "outputs": [
        {
          "output_type": "execute_result",
          "data": {
            "text/plain": [
              "set"
            ]
          },
          "metadata": {},
          "execution_count": 8
        }
      ]
    },
    {
      "cell_type": "code",
      "source": [
        "names_set = {'subbu','laxman','viswa'}\n",
        "type(names_set)"
      ],
      "metadata": {
        "colab": {
          "base_uri": "https://localhost:8080/"
        },
        "id": "gyMa6V-ttUm6",
        "outputId": "83d0337a-a5de-4621-8401-5db01b37976b"
      },
      "execution_count": 4,
      "outputs": [
        {
          "output_type": "execute_result",
          "data": {
            "text/plain": [
              "set"
            ]
          },
          "metadata": {},
          "execution_count": 4
        }
      ]
    },
    {
      "cell_type": "code",
      "source": [
        "print(names_set)\n",
        "print(numbers)\n",
        "print(fruits)"
      ],
      "metadata": {
        "colab": {
          "base_uri": "https://localhost:8080/"
        },
        "id": "gA8wdQxqtpAq",
        "outputId": "9564b147-6f94-476b-b49d-de4ce79b72bf"
      },
      "execution_count": 7,
      "outputs": [
        {
          "output_type": "stream",
          "name": "stdout",
          "text": [
            "{'subbu', 'viswa', 'laxman'}\n",
            "{1, 2, 3, 4, 5, 6, 7}\n",
            "{'mango', 'apple', 'banana'}\n"
          ]
        }
      ]
    },
    {
      "cell_type": "markdown",
      "source": [
        "# Converting a list to a set"
      ],
      "metadata": {
        "id": "BQnUX7OiuSVC"
      }
    },
    {
      "cell_type": "code",
      "source": [
        "numbers=set([1,2,3,4,5,6,7])\n",
        "print(type(numbers))\n",
        "print(numbers)"
      ],
      "metadata": {
        "colab": {
          "base_uri": "https://localhost:8080/"
        },
        "id": "QSGw0jjEt17y",
        "outputId": "a8c1f283-c1c3-4175-cfd3-6a691f1f3760"
      },
      "execution_count": 23,
      "outputs": [
        {
          "output_type": "stream",
          "name": "stdout",
          "text": [
            "<class 'set'>\n",
            "{1, 2, 3, 4, 5, 6, 7}\n"
          ]
        }
      ]
    },
    {
      "cell_type": "code",
      "source": [
        "edc = set(['school','college','university'])\n",
        "print(type(edc))\n",
        "print(edc)\n"
      ],
      "metadata": {
        "colab": {
          "base_uri": "https://localhost:8080/"
        },
        "id": "YqfGJYuzujua",
        "outputId": "9b763543-cf0b-4d94-92cc-6b50b44a51a3"
      },
      "execution_count": 22,
      "outputs": [
        {
          "output_type": "stream",
          "name": "stdout",
          "text": [
            "<class 'set'>\n",
            "{'university', 'school', 'college'}\n"
          ]
        }
      ]
    },
    {
      "cell_type": "code",
      "source": [
        "course=set(['python','java','c','oracle'])\n",
        "print(type(course))\n",
        "print(course)"
      ],
      "metadata": {
        "colab": {
          "base_uri": "https://localhost:8080/"
        },
        "id": "IF70dqzevpcK",
        "outputId": "6f1c91aa-13c5-4cf9-ccba-4d271d6d5bde"
      },
      "execution_count": 24,
      "outputs": [
        {
          "output_type": "stream",
          "name": "stdout",
          "text": [
            "<class 'set'>\n",
            "{'oracle', 'java', 'c', 'python'}\n"
          ]
        }
      ]
    },
    {
      "cell_type": "markdown",
      "source": [
        "# IT will removes the duplicate items"
      ],
      "metadata": {
        "id": "4w8BokEdwmC5"
      }
    },
    {
      "cell_type": "code",
      "source": [
        "set = {11,22,22,3,3,44,44,555,555,6,6,6,7}\n",
        "print(set)"
      ],
      "metadata": {
        "colab": {
          "base_uri": "https://localhost:8080/"
        },
        "id": "KihbklxQwe5p",
        "outputId": "b51d0857-e013-44dd-f29e-08e3b08fad7c"
      },
      "execution_count": 25,
      "outputs": [
        {
          "output_type": "stream",
          "name": "stdout",
          "text": [
            "{3, 6, 7, 22, 555, 11, 44}\n"
          ]
        }
      ]
    },
    {
      "cell_type": "code",
      "source": [
        "# To add items in a set\n",
        "set1 = {1,2,3,4,5}\n",
        "set1.add(68)\n",
        "print(set1)"
      ],
      "metadata": {
        "colab": {
          "base_uri": "https://localhost:8080/"
        },
        "id": "bKiisQg-w2kp",
        "outputId": "f390dee4-b2b5-4b50-e0f4-79fe4f1db772"
      },
      "execution_count": 28,
      "outputs": [
        {
          "output_type": "stream",
          "name": "stdout",
          "text": [
            "{1, 2, 3, 4, 5, 68}\n"
          ]
        }
      ]
    },
    {
      "cell_type": "code",
      "source": [
        "set2 = {1,2,3,4}\n",
        "set2.add(5)\n",
        "set2.add(6)\n",
        "set2.add(7)\n",
        "print(set2)"
      ],
      "metadata": {
        "colab": {
          "base_uri": "https://localhost:8080/"
        },
        "id": "DzLgAaiFycGJ",
        "outputId": "3569b850-0b88-45bf-8f9a-74179e95151d"
      },
      "execution_count": 29,
      "outputs": [
        {
          "output_type": "stream",
          "name": "stdout",
          "text": [
            "{1, 2, 3, 4, 5, 6, 7}\n"
          ]
        }
      ]
    },
    {
      "cell_type": "code",
      "source": [
        "names={'subbu','laxman'}\n",
        "names.add('viswa')\n",
        "print(names)"
      ],
      "metadata": {
        "colab": {
          "base_uri": "https://localhost:8080/"
        },
        "id": "9vAWOyu2y9bQ",
        "outputId": "fa0442f9-1b3e-4b8f-c2e6-9c54c0b79c2a"
      },
      "execution_count": 31,
      "outputs": [
        {
          "output_type": "stream",
          "name": "stdout",
          "text": [
            "{'subbu', 'viswa', 'laxman'}\n"
          ]
        }
      ]
    },
    {
      "cell_type": "code",
      "source": [
        "# To remove items or elements from a set\n",
        "lang={'telugu','hindi','english'}\n",
        "lang.discard('hindi')\n",
        "print(lang)"
      ],
      "metadata": {
        "colab": {
          "base_uri": "https://localhost:8080/"
        },
        "id": "ucxWnkpazKRw",
        "outputId": "753f486b-9a15-48a3-8c12-5b7914b1e6a4"
      },
      "execution_count": 44,
      "outputs": [
        {
          "output_type": "stream",
          "name": "stdout",
          "text": [
            "{'english', 'telugu'}\n"
          ]
        }
      ]
    },
    {
      "cell_type": "code",
      "source": [
        "lang={'python','jaavaa','oraclr'}\n",
        "lang.remove('jaavaa')\n",
        "print(lang)"
      ],
      "metadata": {
        "colab": {
          "base_uri": "https://localhost:8080/"
        },
        "id": "x-rQUUJJz2Pw",
        "outputId": "7da802a4-d2f1-4830-8947-6fede9c5b4e0"
      },
      "execution_count": 36,
      "outputs": [
        {
          "output_type": "stream",
          "name": "stdout",
          "text": [
            "{'oraclr', 'python'}\n"
          ]
        }
      ]
    },
    {
      "cell_type": "code",
      "source": [
        "# union set\n",
        "# the union of two sets A and B include all elements of set A and B\n",
        "set1={1,2,3,3,4,5,66,66}\n",
        "set2={7,8,9,10}\n",
        "set=set1.union(set2)\n",
        "print(set)"
      ],
      "metadata": {
        "colab": {
          "base_uri": "https://localhost:8080/"
        },
        "id": "_dO95rVT0Xyg",
        "outputId": "577886fd-376b-462c-f91e-25eee417c3fe"
      },
      "execution_count": 38,
      "outputs": [
        {
          "output_type": "stream",
          "name": "stdout",
          "text": [
            "{1, 2, 3, 4, 5, 66, 7, 8, 9, 10}\n"
          ]
        }
      ]
    },
    {
      "cell_type": "code",
      "source": [
        "# Intersection\n",
        "# The intersection of two sets that will returns common elements of both sets\n",
        "set1={'subbu','venkayamma','rangayya'}\n",
        "set2={'rangayya','raaji'}\n",
        "set=set1.intersection(set2)\n",
        "print(set)"
      ],
      "metadata": {
        "colab": {
          "base_uri": "https://localhost:8080/"
        },
        "id": "MoEBlaCa1IzX",
        "outputId": "3f7a7fe3-eccd-46d3-883b-ac3db0ae589a"
      },
      "execution_count": 39,
      "outputs": [
        {
          "output_type": "stream",
          "name": "stdout",
          "text": [
            "{'rangayya'}\n"
          ]
        }
      ]
    },
    {
      "cell_type": "code",
      "source": [
        "# Difference\n",
        "# The difference of two sets is set of elements that are cancels common elements and returns the value of setA\n",
        "setA={1,2,3,4,5}\n",
        "setB={4,6,7,8}\n",
        "set=setA.difference(setB)\n",
        "print(set)"
      ],
      "metadata": {
        "colab": {
          "base_uri": "https://localhost:8080/"
        },
        "id": "cRtlcwRI2P6H",
        "outputId": "0acc3963-7e70-42db-9ac3-22962dfdbdd6"
      },
      "execution_count": 42,
      "outputs": [
        {
          "output_type": "stream",
          "name": "stdout",
          "text": [
            "{1, 2, 3, 5}\n"
          ]
        }
      ]
    },
    {
      "cell_type": "code",
      "source": [
        "# Symmetric difference\n",
        "# The symmetric difference of sets is set of elements that cancels common elements of sets and returns the values of setA and setB\n",
        "setA={1,2,3,4,5}\n",
        "setB={4,6,7,8}\n",
        "set=setA.symmetric_difference(setB)\n",
        "print(set)"
      ],
      "metadata": {
        "colab": {
          "base_uri": "https://localhost:8080/"
        },
        "id": "6YuYayRg3FiX",
        "outputId": "8316a89a-80b1-4b76-8fd9-9df3105b91fc"
      },
      "execution_count": 43,
      "outputs": [
        {
          "output_type": "stream",
          "name": "stdout",
          "text": [
            "{1, 2, 3, 5, 6, 7, 8}\n"
          ]
        }
      ]
    },
    {
      "cell_type": "code",
      "source": [],
      "metadata": {
        "id": "qFwTr37R3wNH"
      },
      "execution_count": null,
      "outputs": []
    }
  ]
}