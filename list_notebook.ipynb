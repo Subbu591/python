{
  "nbformat": 4,
  "nbformat_minor": 0,
  "metadata": {
    "colab": {
      "provenance": []
    },
    "kernelspec": {
      "name": "python3",
      "display_name": "Python 3"
    },
    "language_info": {
      "name": "python"
    }
  },
  "cells": [
    {
      "cell_type": "code",
      "execution_count": null,
      "metadata": {
        "id": "I8Xrz4Ej0Xgd"
      },
      "outputs": [],
      "source": [
        "# definiton of list: In python, a list is a data structure that is a mutable or changeable,ordered series of elements. Each element in a list is an object,and lists are defined by placing values between square brackets[]. lists are helpful when we are need\n",
        "#to work with many relate values.\n",
        "# examples of lists:\n",
        "\n"
      ]
    },
    {
      "cell_type": "code",
      "source": [
        "my_list=[1,2,3,4,5]\n",
        "print(my_list)"
      ],
      "metadata": {
        "colab": {
          "base_uri": "https://localhost:8080/"
        },
        "id": "qeHBDjs92489",
        "outputId": "cbe9aa2a-af49-464c-9e23-e8c6e82c7f92"
      },
      "execution_count": null,
      "outputs": [
        {
          "output_type": "stream",
          "name": "stdout",
          "text": [
            "[1, 2, 3, 4, 5]\n"
          ]
        }
      ]
    },
    {
      "cell_type": "code",
      "source": [
        "fruits= [\"apple\",\"banana\",\"mango\"]\n",
        "print(fruits)\n"
      ],
      "metadata": {
        "colab": {
          "base_uri": "https://localhost:8080/"
        },
        "id": "7DJD00Vr7Yfd",
        "outputId": "27e049df-e60c-41b3-c058-284652ca5c08"
      },
      "execution_count": null,
      "outputs": [
        {
          "output_type": "stream",
          "name": "stdout",
          "text": [
            "['apple', 'banana', 'mango']\n"
          ]
        }
      ]
    },
    {
      "cell_type": "code",
      "source": [
        "my_list2 = [65,66,76]\n",
        "print(my_list2)"
      ],
      "metadata": {
        "colab": {
          "base_uri": "https://localhost:8080/"
        },
        "id": "tjedkEO48uY1",
        "outputId": "842d58ae-afad-4cdc-ae45-e33061cdb2f3"
      },
      "execution_count": null,
      "outputs": [
        {
          "output_type": "stream",
          "name": "stdout",
          "text": [
            "[65, 66, 76]\n"
          ]
        }
      ]
    },
    {
      "cell_type": "code",
      "source": [
        "list_names = [\"subbu\",\"guava\",\"mani\"]\n",
        "print(list_names)"
      ],
      "metadata": {
        "colab": {
          "base_uri": "https://localhost:8080/"
        },
        "id": "E1X8k9Rg8_fl",
        "outputId": "4bd6231d-c978-47e6-e4d6-2880aad99e84"
      },
      "execution_count": null,
      "outputs": [
        {
          "output_type": "stream",
          "name": "stdout",
          "text": [
            "['subbu', 'guava', 'mani']\n"
          ]
        }
      ]
    },
    {
      "cell_type": "code",
      "source": [
        "list_5 = [\"swathi\",1,2,3]\n",
        "print(list_5)"
      ],
      "metadata": {
        "colab": {
          "base_uri": "https://localhost:8080/"
        },
        "id": "3HvLGPfR9kZE",
        "outputId": "ab81d771-a0d3-4565-cd54-1d93cbf29d4d"
      },
      "execution_count": null,
      "outputs": [
        {
          "output_type": "stream",
          "name": "stdout",
          "text": [
            "['swathi', 1, 2, 3]\n"
          ]
        }
      ]
    },
    {
      "cell_type": "code",
      "source": [
        "list_6 = [1+1j,2+0j]\n",
        "print(list_6)"
      ],
      "metadata": {
        "colab": {
          "base_uri": "https://localhost:8080/"
        },
        "id": "f30F-AfS91sF",
        "outputId": "15c7a0c7-f618-49d8-a6ac-7d3cd559931a"
      },
      "execution_count": null,
      "outputs": [
        {
          "output_type": "stream",
          "name": "stdout",
          "text": [
            "[(1+1j), (2+0j)]\n"
          ]
        }
      ]
    },
    {
      "cell_type": "code",
      "source": [
        "list_7 = [\"ramu\",\"somu\",1+79j,1,87]\n",
        "print(list_7)"
      ],
      "metadata": {
        "colab": {
          "base_uri": "https://localhost:8080/"
        },
        "id": "JJ_6BiUj-Gv9",
        "outputId": "2c866989-d0fb-49b0-e019-74648fa64218"
      },
      "execution_count": null,
      "outputs": [
        {
          "output_type": "stream",
          "name": "stdout",
          "text": [
            "['ramu', 'somu', (1+79j), 1, 87]\n"
          ]
        }
      ]
    },
    {
      "cell_type": "code",
      "source": [
        "list_8 = [7865,8766,\"sowjanya\"]\n",
        "print(list_8)"
      ],
      "metadata": {
        "colab": {
          "base_uri": "https://localhost:8080/"
        },
        "id": "a-sxdB7W-YpV",
        "outputId": "4498502a-5a42-42f0-d421-a17ce4e52457"
      },
      "execution_count": null,
      "outputs": [
        {
          "output_type": "stream",
          "name": "stdout",
          "text": [
            "[7865, 8766, 'sowjanya']\n"
          ]
        }
      ]
    },
    {
      "cell_type": "code",
      "source": [
        "list_9 = [\"phonia\",\"lion\",\"tiger\"]\n",
        "print(list_9)"
      ],
      "metadata": {
        "colab": {
          "base_uri": "https://localhost:8080/"
        },
        "id": "EeuQKJUy-sUq",
        "outputId": "bf92a525-4e39-4c16-e44d-7e132a75ab12"
      },
      "execution_count": null,
      "outputs": [
        {
          "output_type": "stream",
          "name": "stdout",
          "text": [
            "['phonia', 'lion', 'tiger']\n"
          ]
        }
      ]
    },
    {
      "cell_type": "code",
      "source": [
        "list_10 = [12,0j,\"cider\"]\n",
        "print(list_10)"
      ],
      "metadata": {
        "colab": {
          "base_uri": "https://localhost:8080/"
        },
        "id": "sO9LWjKG_Ay1",
        "outputId": "188a423a-6dce-45fb-fa6e-a2debb501fde"
      },
      "execution_count": null,
      "outputs": [
        {
          "output_type": "stream",
          "name": "stdout",
          "text": [
            "[12, 0j, 'cider']\n"
          ]
        }
      ]
    },
    {
      "cell_type": "code",
      "source": [
        "# Index: In a context of a list, an index is a numerical value that represents the\n",
        "#        position of an element in the list.\n",
        "#        there are 2 types of index. one is positive and another one is negative.\n",
        "#        positive index starts from left to right 0 to .....\n",
        "#        negative index starts from right to left -1 to ....."
      ],
      "metadata": {
        "id": "cqUOnQ9r_QsF"
      },
      "execution_count": null,
      "outputs": []
    },
    {
      "cell_type": "code",
      "source": [
        "\n",
        "  list1 = [\"apple\", \"banana\",\"autowaala\",\"tiger\",\"aska\"]\n",
        "  list1[-1]\n"
      ],
      "metadata": {
        "colab": {
          "base_uri": "https://localhost:8080/",
          "height": 35
        },
        "id": "LIcDshcbBTzN",
        "outputId": "f3aea2f3-f00f-42a9-b47b-1517a05b0ebe"
      },
      "execution_count": null,
      "outputs": [
        {
          "output_type": "execute_result",
          "data": {
            "text/plain": [
              "'aska'"
            ],
            "application/vnd.google.colaboratory.intrinsic+json": {
              "type": "string"
            }
          },
          "metadata": {},
          "execution_count": 43
        }
      ]
    },
    {
      "cell_type": "code",
      "source": [
        "list1[-2]"
      ],
      "metadata": {
        "colab": {
          "base_uri": "https://localhost:8080/",
          "height": 35
        },
        "id": "X_NhQZGbCPou",
        "outputId": "67adec41-2015-4728-b2c2-b8c428930428"
      },
      "execution_count": null,
      "outputs": [
        {
          "output_type": "execute_result",
          "data": {
            "text/plain": [
              "'tiger'"
            ],
            "application/vnd.google.colaboratory.intrinsic+json": {
              "type": "string"
            }
          },
          "metadata": {},
          "execution_count": 44
        }
      ]
    },
    {
      "cell_type": "code",
      "source": [
        "list1[-3]"
      ],
      "metadata": {
        "colab": {
          "base_uri": "https://localhost:8080/",
          "height": 35
        },
        "id": "evH0_DxjDNxu",
        "outputId": "e037d0b6-44d5-49cc-e195-f5219ec58bff"
      },
      "execution_count": null,
      "outputs": [
        {
          "output_type": "execute_result",
          "data": {
            "text/plain": [
              "'autowaala'"
            ],
            "application/vnd.google.colaboratory.intrinsic+json": {
              "type": "string"
            }
          },
          "metadata": {},
          "execution_count": 46
        }
      ]
    },
    {
      "cell_type": "code",
      "source": [
        "list1[-4]"
      ],
      "metadata": {
        "colab": {
          "base_uri": "https://localhost:8080/",
          "height": 35
        },
        "id": "kT-9qfHUDQj2",
        "outputId": "9e5b1e0e-750f-46eb-f77a-e783d72eed36"
      },
      "execution_count": null,
      "outputs": [
        {
          "output_type": "execute_result",
          "data": {
            "text/plain": [
              "'banana'"
            ],
            "application/vnd.google.colaboratory.intrinsic+json": {
              "type": "string"
            }
          },
          "metadata": {},
          "execution_count": 47
        }
      ]
    },
    {
      "cell_type": "code",
      "source": [
        "list1[-5]"
      ],
      "metadata": {
        "colab": {
          "base_uri": "https://localhost:8080/",
          "height": 35
        },
        "id": "Ca2_SyMHDVfV",
        "outputId": "1bedc210-aa0a-4634-b795-8dd07d867c0c"
      },
      "execution_count": null,
      "outputs": [
        {
          "output_type": "execute_result",
          "data": {
            "text/plain": [
              "'apple'"
            ],
            "application/vnd.google.colaboratory.intrinsic+json": {
              "type": "string"
            }
          },
          "metadata": {},
          "execution_count": 48
        }
      ]
    },
    {
      "cell_type": "code",
      "source": [
        "# Now we write examples of positive index\n",
        "list1[0]"
      ],
      "metadata": {
        "colab": {
          "base_uri": "https://localhost:8080/",
          "height": 35
        },
        "id": "uve2Ker2DZcd",
        "outputId": "a548d8b4-e823-4318-bada-ed8bcfb6c517"
      },
      "execution_count": null,
      "outputs": [
        {
          "output_type": "execute_result",
          "data": {
            "text/plain": [
              "'apple'"
            ],
            "application/vnd.google.colaboratory.intrinsic+json": {
              "type": "string"
            }
          },
          "metadata": {},
          "execution_count": 49
        }
      ]
    },
    {
      "cell_type": "code",
      "source": [
        "list[1]"
      ],
      "metadata": {
        "colab": {
          "base_uri": "https://localhost:8080/"
        },
        "id": "NKKIBH4tDmMm",
        "outputId": "de27833e-2e13-46c2-84c3-b8c5c4f5db25"
      },
      "execution_count": null,
      "outputs": [
        {
          "output_type": "execute_result",
          "data": {
            "text/plain": [
              "list[1]"
            ]
          },
          "metadata": {},
          "execution_count": 50
        }
      ]
    },
    {
      "cell_type": "code",
      "source": [
        "list1[2]"
      ],
      "metadata": {
        "colab": {
          "base_uri": "https://localhost:8080/",
          "height": 35
        },
        "id": "NjqEhRg4Docd",
        "outputId": "ec0120de-b19d-4386-b817-bf397a4c1601"
      },
      "execution_count": null,
      "outputs": [
        {
          "output_type": "execute_result",
          "data": {
            "text/plain": [
              "'autowaala'"
            ],
            "application/vnd.google.colaboratory.intrinsic+json": {
              "type": "string"
            }
          },
          "metadata": {},
          "execution_count": 52
        }
      ]
    },
    {
      "cell_type": "code",
      "source": [
        "list1[3]"
      ],
      "metadata": {
        "colab": {
          "base_uri": "https://localhost:8080/",
          "height": 35
        },
        "id": "GYAQy-olDqIO",
        "outputId": "d60f18b6-d1bd-486b-cf82-75f08b73aa8c"
      },
      "execution_count": null,
      "outputs": [
        {
          "output_type": "execute_result",
          "data": {
            "text/plain": [
              "'tiger'"
            ],
            "application/vnd.google.colaboratory.intrinsic+json": {
              "type": "string"
            }
          },
          "metadata": {},
          "execution_count": 53
        }
      ]
    },
    {
      "cell_type": "code",
      "source": [
        "list1[4]"
      ],
      "metadata": {
        "colab": {
          "base_uri": "https://localhost:8080/",
          "height": 35
        },
        "id": "tX5vTXbCDvFt",
        "outputId": "d88b5998-7018-4ac5-f238-fbade369aaaa"
      },
      "execution_count": null,
      "outputs": [
        {
          "output_type": "execute_result",
          "data": {
            "text/plain": [
              "'aska'"
            ],
            "application/vnd.google.colaboratory.intrinsic+json": {
              "type": "string"
            }
          },
          "metadata": {},
          "execution_count": 54
        }
      ]
    },
    {
      "cell_type": "code",
      "source": [
        "#Slicing is used to access multiple elements in a list.\n",
        "#        It allows to select a range of elements by\n",
        "#        specifying a start and end index.\n"
      ],
      "metadata": {
        "id": "NnK99nRhDypu"
      },
      "execution_count": 1,
      "outputs": []
    },
    {
      "cell_type": "code",
      "source": [
        "list = [1,2,3,4,5,6,7,8,9,10]\n",
        "list[1:9]"
      ],
      "metadata": {
        "colab": {
          "base_uri": "https://localhost:8080/"
        },
        "id": "jnAIDx6XsXfJ",
        "outputId": "c9673216-1732-420c-a11c-1d426d38c172"
      },
      "execution_count": 2,
      "outputs": [
        {
          "output_type": "execute_result",
          "data": {
            "text/plain": [
              "[2, 3, 4, 5, 6, 7, 8, 9]"
            ]
          },
          "metadata": {},
          "execution_count": 2
        }
      ]
    },
    {
      "cell_type": "code",
      "source": [
        "list[1:4]"
      ],
      "metadata": {
        "colab": {
          "base_uri": "https://localhost:8080/"
        },
        "id": "x-M4mXx4tFyp",
        "outputId": "91a0168f-46f1-47d2-9678-81ecb4898b04"
      },
      "execution_count": 3,
      "outputs": [
        {
          "output_type": "execute_result",
          "data": {
            "text/plain": [
              "[2, 3, 4]"
            ]
          },
          "metadata": {},
          "execution_count": 3
        }
      ]
    },
    {
      "cell_type": "code",
      "source": [
        "list[3:6]"
      ],
      "metadata": {
        "colab": {
          "base_uri": "https://localhost:8080/"
        },
        "id": "PJmBJVUptLy3",
        "outputId": "dce3e65a-8702-4c7e-de02-55b625c43bd4"
      },
      "execution_count": 4,
      "outputs": [
        {
          "output_type": "execute_result",
          "data": {
            "text/plain": [
              "[4, 5, 6]"
            ]
          },
          "metadata": {},
          "execution_count": 4
        }
      ]
    },
    {
      "cell_type": "code",
      "source": [
        "list[2:5]"
      ],
      "metadata": {
        "colab": {
          "base_uri": "https://localhost:8080/"
        },
        "id": "Fj4m6L_wtPon",
        "outputId": "d11dc867-89d5-464e-89d0-07a5b304c0c2"
      },
      "execution_count": 5,
      "outputs": [
        {
          "output_type": "execute_result",
          "data": {
            "text/plain": [
              "[3, 4, 5]"
            ]
          },
          "metadata": {},
          "execution_count": 5
        }
      ]
    },
    {
      "cell_type": "code",
      "source": [
        "list[5:9]"
      ],
      "metadata": {
        "colab": {
          "base_uri": "https://localhost:8080/"
        },
        "id": "2swDJ3o9tXp3",
        "outputId": "12bcab34-12bb-4e0f-89d6-723f2e7ca822"
      },
      "execution_count": 7,
      "outputs": [
        {
          "output_type": "execute_result",
          "data": {
            "text/plain": [
              "[6, 7, 8, 9]"
            ]
          },
          "metadata": {},
          "execution_count": 7
        }
      ]
    },
    {
      "cell_type": "code",
      "source": [
        "list = [1,2,3,4,5,6,7,8]\n",
        "list[-1:]"
      ],
      "metadata": {
        "colab": {
          "base_uri": "https://localhost:8080/"
        },
        "id": "htztpGnQu0RO",
        "outputId": "bc7a9aba-b650-4538-ccba-682dffe7e440"
      },
      "execution_count": 11,
      "outputs": [
        {
          "output_type": "execute_result",
          "data": {
            "text/plain": [
              "[8]"
            ]
          },
          "metadata": {},
          "execution_count": 11
        }
      ]
    },
    {
      "cell_type": "code",
      "source": [
        "list[-5:-1]"
      ],
      "metadata": {
        "colab": {
          "base_uri": "https://localhost:8080/"
        },
        "id": "WUUzM9C4vOCw",
        "outputId": "22f5c187-e376-40bf-e9c0-67b98d56862f"
      },
      "execution_count": 12,
      "outputs": [
        {
          "output_type": "execute_result",
          "data": {
            "text/plain": [
              "[4, 5, 6, 7]"
            ]
          },
          "metadata": {},
          "execution_count": 12
        }
      ]
    },
    {
      "cell_type": "code",
      "source": [
        "list[-8:-3]"
      ],
      "metadata": {
        "colab": {
          "base_uri": "https://localhost:8080/"
        },
        "id": "CLMwH_g-vq-W",
        "outputId": "279db235-cdd0-43ac-b92d-8339006bfcce"
      },
      "execution_count": 14,
      "outputs": [
        {
          "output_type": "execute_result",
          "data": {
            "text/plain": [
              "[1, 2, 3, 4, 5]"
            ]
          },
          "metadata": {},
          "execution_count": 14
        }
      ]
    },
    {
      "cell_type": "code",
      "source": [
        "list[-3:-1]"
      ],
      "metadata": {
        "colab": {
          "base_uri": "https://localhost:8080/"
        },
        "id": "nF769HuWvxwa",
        "outputId": "175973ed-9f35-413b-ed68-a78550834f55"
      },
      "execution_count": 15,
      "outputs": [
        {
          "output_type": "execute_result",
          "data": {
            "text/plain": [
              "[6, 7]"
            ]
          },
          "metadata": {},
          "execution_count": 15
        }
      ]
    },
    {
      "cell_type": "code",
      "source": [
        "list[-8:-1]"
      ],
      "metadata": {
        "colab": {
          "base_uri": "https://localhost:8080/"
        },
        "id": "3bxNjjUov_7d",
        "outputId": "aca0234c-dcdc-4a55-f9ca-98a3cf2413cb"
      },
      "execution_count": 16,
      "outputs": [
        {
          "output_type": "execute_result",
          "data": {
            "text/plain": [
              "[1, 2, 3, 4, 5, 6, 7]"
            ]
          },
          "metadata": {},
          "execution_count": 16
        }
      ]
    },
    {
      "cell_type": "code",
      "source": [
        "from typing import OrderedDict\n",
        "# Python provides several list methods that can be used to\n",
        "#  manipulate and modify lists.Here are some of the most\n",
        "#   commonly used list methods.\n",
        "1.  append():Adds an element to the end of the list.\n",
        "2.  extend():Adds multiple elements to the end of the list\n",
        "3.  insert():Inserts an element at a specified position in the list\n",
        "4.  remove():Removes the first occurrence of an element in list\n",
        "5.  pop   ():removes and returns an element at a specified position i the list\n",
        "6.  clear ():Removes all elements from the list\n",
        "7.  index ():Returns the index of the first occurrence of an element in the list\n",
        "8.  count ():Returns the number of occurrences of an element in the list\n",
        "9.   sort ():Sorts the elements of the list in ascending OrderedDict\n",
        "10. reverse():Reverse the orderr of elements in the list\n",
        "11. copy   ():creates a shallow copy of list\n",
        "12. len    ():Returns the number of elements in the list"
      ],
      "metadata": {
        "id": "k5kxgVl2wK8N"
      },
      "execution_count": null,
      "outputs": []
    }
  ]
}