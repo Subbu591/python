{
  "nbformat": 4,
  "nbformat_minor": 0,
  "metadata": {
    "colab": {
      "provenance": []
    },
    "kernelspec": {
      "name": "python3",
      "display_name": "Python 3"
    },
    "language_info": {
      "name": "python"
    }
  },
  "cells": [
    {
      "cell_type": "code",
      "execution_count": 1,
      "metadata": {
        "id": "7kjSeC522SGj"
      },
      "outputs": [],
      "source": [
        "# Bitwise AND(&):\n",
        "#                Comparing two values if both conditions are 1,it will true otherwise it's false.\n",
        "#\n",
        "\n"
      ]
    },
    {
      "cell_type": "code",
      "source": [
        "print(34&45)"
      ],
      "metadata": {
        "colab": {
          "base_uri": "https://localhost:8080/"
        },
        "id": "huYJPpKK3twK",
        "outputId": "d9416c38-1d0a-4fe7-b03e-c6c85041599c"
      },
      "execution_count": 2,
      "outputs": [
        {
          "output_type": "stream",
          "name": "stdout",
          "text": [
            "32\n"
          ]
        }
      ]
    },
    {
      "cell_type": "code",
      "source": [
        "print(234&890)"
      ],
      "metadata": {
        "colab": {
          "base_uri": "https://localhost:8080/"
        },
        "id": "90EsePSU30fK",
        "outputId": "0d6a3c64-8e18-44c6-cddb-3b6a9a42aade"
      },
      "execution_count": 3,
      "outputs": [
        {
          "output_type": "stream",
          "name": "stdout",
          "text": [
            "106\n"
          ]
        }
      ]
    },
    {
      "cell_type": "code",
      "source": [
        "print(7&777)"
      ],
      "metadata": {
        "colab": {
          "base_uri": "https://localhost:8080/"
        },
        "id": "TQ43fF4P36kq",
        "outputId": "01727266-6693-40de-b41d-9940cd57a1a1"
      },
      "execution_count": 4,
      "outputs": [
        {
          "output_type": "stream",
          "name": "stdout",
          "text": [
            "1\n"
          ]
        }
      ]
    },
    {
      "cell_type": "code",
      "source": [
        "# Bitwise OR(|): Comparing two values if \"1\" is in either of condition it is true otherwise false.\n",
        "\n"
      ],
      "metadata": {
        "id": "NRyfUD2g3_n6"
      },
      "execution_count": 5,
      "outputs": []
    },
    {
      "cell_type": "code",
      "source": [
        "print(34|45)"
      ],
      "metadata": {
        "colab": {
          "base_uri": "https://localhost:8080/"
        },
        "id": "g2MJMetL4apN",
        "outputId": "2658a893-ebe5-4c42-c10a-c19fedcd77b1"
      },
      "execution_count": 6,
      "outputs": [
        {
          "output_type": "stream",
          "name": "stdout",
          "text": [
            "47\n"
          ]
        }
      ]
    },
    {
      "cell_type": "code",
      "source": [
        "print(234|890)"
      ],
      "metadata": {
        "colab": {
          "base_uri": "https://localhost:8080/"
        },
        "id": "kC5uuNhJ4gsf",
        "outputId": "0cd34bfe-1862-45ac-a84a-048378c08957"
      },
      "execution_count": 7,
      "outputs": [
        {
          "output_type": "stream",
          "name": "stdout",
          "text": [
            "1018\n"
          ]
        }
      ]
    },
    {
      "cell_type": "code",
      "source": [
        "print(777|7)"
      ],
      "metadata": {
        "colab": {
          "base_uri": "https://localhost:8080/"
        },
        "id": "f22z9mOD4kcP",
        "outputId": "9363bf9b-ca62-4148-fe9d-030e032bb031"
      },
      "execution_count": 8,
      "outputs": [
        {
          "output_type": "stream",
          "name": "stdout",
          "text": [
            "783\n"
          ]
        }
      ]
    },
    {
      "cell_type": "code",
      "source": [
        "# Bitwise XOR(^): if both conditions are different then it's true otherwise false.\n"
      ],
      "metadata": {
        "id": "vJrzmUVW4oAP"
      },
      "execution_count": 9,
      "outputs": []
    },
    {
      "cell_type": "code",
      "source": [
        "print(32^17)"
      ],
      "metadata": {
        "colab": {
          "base_uri": "https://localhost:8080/"
        },
        "id": "svFtQgGK5CSC",
        "outputId": "78c96798-4e18-4f76-b9d4-1877cf4820f3"
      },
      "execution_count": 10,
      "outputs": [
        {
          "output_type": "stream",
          "name": "stdout",
          "text": [
            "49\n"
          ]
        }
      ]
    },
    {
      "cell_type": "code",
      "source": [
        "print(287^937)"
      ],
      "metadata": {
        "colab": {
          "base_uri": "https://localhost:8080/"
        },
        "id": "RPhb4o0R5IJy",
        "outputId": "bc6f9730-5cab-4939-802b-209dd75e5781"
      },
      "execution_count": 11,
      "outputs": [
        {
          "output_type": "stream",
          "name": "stdout",
          "text": [
            "694\n"
          ]
        }
      ]
    },
    {
      "cell_type": "code",
      "source": [
        "# Left shift: Shifts the bits of number to the left by specified number of places."
      ],
      "metadata": {
        "id": "hn-RciNG5NNj"
      },
      "execution_count": 12,
      "outputs": []
    },
    {
      "cell_type": "code",
      "source": [
        "print(45<<3)"
      ],
      "metadata": {
        "colab": {
          "base_uri": "https://localhost:8080/"
        },
        "id": "Dz_PNmp-525m",
        "outputId": "2465aa1d-e01d-48b6-a9de-e362bbb9abd3"
      },
      "execution_count": 13,
      "outputs": [
        {
          "output_type": "stream",
          "name": "stdout",
          "text": [
            "360\n"
          ]
        }
      ]
    },
    {
      "cell_type": "code",
      "source": [
        "print(143<<3)"
      ],
      "metadata": {
        "colab": {
          "base_uri": "https://localhost:8080/"
        },
        "id": "cjDLgns16Akn",
        "outputId": "9c67dec9-f01f-4d5a-a47e-3505b63b4daf"
      },
      "execution_count": 14,
      "outputs": [
        {
          "output_type": "stream",
          "name": "stdout",
          "text": [
            "1144\n"
          ]
        }
      ]
    },
    {
      "cell_type": "code",
      "source": [
        "# Right shift: Shifts the bits of number to the right by a specified number of places\n",
        "print(420>>2)"
      ],
      "metadata": {
        "colab": {
          "base_uri": "https://localhost:8080/"
        },
        "id": "-szg72n46GjG",
        "outputId": "5c88f26b-73cd-4470-993f-8742d34c0122"
      },
      "execution_count": 15,
      "outputs": [
        {
          "output_type": "stream",
          "name": "stdout",
          "text": [
            "105\n"
          ]
        }
      ]
    },
    {
      "cell_type": "code",
      "source": [
        "print(777>>4)"
      ],
      "metadata": {
        "colab": {
          "base_uri": "https://localhost:8080/"
        },
        "id": "H5DXjZXl6epp",
        "outputId": "4406623b-3085-4ec4-f5d9-bfd5ee8a8840"
      },
      "execution_count": 16,
      "outputs": [
        {
          "output_type": "stream",
          "name": "stdout",
          "text": [
            "48\n"
          ]
        }
      ]
    },
    {
      "cell_type": "code",
      "source": [],
      "metadata": {
        "id": "RgSbCbeg6mT7"
      },
      "execution_count": null,
      "outputs": []
    }
  ]
}