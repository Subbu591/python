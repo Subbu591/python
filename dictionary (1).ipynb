{
  "nbformat": 4,
  "nbformat_minor": 0,
  "metadata": {
    "colab": {
      "provenance": []
    },
    "kernelspec": {
      "name": "python3",
      "display_name": "Python 3"
    },
    "language_info": {
      "name": "python"
    }
  },
  "cells": [
    {
      "cell_type": "code",
      "execution_count": null,
      "metadata": {
        "colab": {
          "base_uri": "https://localhost:8080/"
        },
        "id": "DKQWY4pSPqX2",
        "outputId": "bc7327e3-b83b-4da0-fc40-f828056f9cdc"
      },
      "outputs": [
        {
          "output_type": "execute_result",
          "data": {
            "text/plain": [
              "30"
            ]
          },
          "metadata": {},
          "execution_count": 1
        }
      ],
      "source": [
        "# Dictionary is a datastructure that stores a collecton of key value pairs, where each key is unique\n",
        "# and maps to a specific value.Dictinary are mutable.dictionary is created by {}.\n",
        "dic = {'name':'mahesh','age':30,'prof':\"student\"}\n",
        "dic['age']"
      ]
    },
    {
      "cell_type": "code",
      "source": [
        "dic1 = {'name':'tiger','role':'hunter'}\n",
        "dic1['role']"
      ],
      "metadata": {
        "colab": {
          "base_uri": "https://localhost:8080/",
          "height": 36
        },
        "id": "dQpxA66DQ_Ce",
        "outputId": "2307ea88-2f12-41e0-db4f-cc56486655b3"
      },
      "execution_count": null,
      "outputs": [
        {
          "output_type": "execute_result",
          "data": {
            "text/plain": [
              "'hunter'"
            ],
            "application/vnd.google.colaboratory.intrinsic+json": {
              "type": "string"
            }
          },
          "metadata": {},
          "execution_count": 2
        }
      ]
    },
    {
      "cell_type": "code",
      "source": [
        "a = {'a':'kohli','b':'rohit'}\n",
        "a['b']"
      ],
      "metadata": {
        "colab": {
          "base_uri": "https://localhost:8080/",
          "height": 36
        },
        "id": "9va1npFGRqNc",
        "outputId": "92ee14ef-da8e-44b8-98b7-96dfdaac23bb"
      },
      "execution_count": null,
      "outputs": [
        {
          "output_type": "execute_result",
          "data": {
            "text/plain": [
              "'rohit'"
            ],
            "application/vnd.google.colaboratory.intrinsic+json": {
              "type": "string"
            }
          },
          "metadata": {},
          "execution_count": 9
        }
      ]
    },
    {
      "cell_type": "code",
      "source": [
        "A = {'a':'apple','b':'banana','c':'mango'}\n",
        "A['c']"
      ],
      "metadata": {
        "colab": {
          "base_uri": "https://localhost:8080/",
          "height": 36
        },
        "id": "fXVB7gipTKbr",
        "outputId": "c07de5da-a430-4762-f4bf-1e304e1ad7f4"
      },
      "execution_count": null,
      "outputs": [
        {
          "output_type": "execute_result",
          "data": {
            "text/plain": [
              "'mango'"
            ],
            "application/vnd.google.colaboratory.intrinsic+json": {
              "type": "string"
            }
          },
          "metadata": {},
          "execution_count": 10
        }
      ]
    },
    {
      "cell_type": "code",
      "source": [
        "day = {'a':'monday','b':'tuesday'}\n",
        "day['a']"
      ],
      "metadata": {
        "colab": {
          "base_uri": "https://localhost:8080/",
          "height": 36
        },
        "id": "6y1Dt1Z7TebT",
        "outputId": "6ebcc59a-042e-4c5b-c182-898bb9bb0a2c"
      },
      "execution_count": null,
      "outputs": [
        {
          "output_type": "execute_result",
          "data": {
            "text/plain": [
              "'monday'"
            ],
            "application/vnd.google.colaboratory.intrinsic+json": {
              "type": "string"
            }
          },
          "metadata": {},
          "execution_count": 11
        }
      ]
    },
    {
      "cell_type": "code",
      "source": [
        "count={'a':'z','b':'x'}\n",
        "count['b']"
      ],
      "metadata": {
        "colab": {
          "base_uri": "https://localhost:8080/",
          "height": 36
        },
        "id": "HIgwSP72TvlR",
        "outputId": "012cf3f5-7f0e-47a1-aab7-5aca835be85b"
      },
      "execution_count": null,
      "outputs": [
        {
          "output_type": "execute_result",
          "data": {
            "text/plain": [
              "'x'"
            ],
            "application/vnd.google.colaboratory.intrinsic+json": {
              "type": "string"
            }
          },
          "metadata": {},
          "execution_count": 12
        }
      ]
    },
    {
      "cell_type": "code",
      "source": [
        "code={'a':'python','b':'java'}\n",
        "code['a']"
      ],
      "metadata": {
        "colab": {
          "base_uri": "https://localhost:8080/",
          "height": 36
        },
        "id": "MFhvdKbAT78Z",
        "outputId": "5f3bc651-d01e-4ad8-d30f-c9046279234b"
      },
      "execution_count": null,
      "outputs": [
        {
          "output_type": "execute_result",
          "data": {
            "text/plain": [
              "'python'"
            ],
            "application/vnd.google.colaboratory.intrinsic+json": {
              "type": "string"
            }
          },
          "metadata": {},
          "execution_count": 14
        }
      ]
    },
    {
      "cell_type": "code",
      "source": [
        "movie={'a':'bahubali','b':'kgf'}\n",
        "movie['a']\n"
      ],
      "metadata": {
        "colab": {
          "base_uri": "https://localhost:8080/",
          "height": 36
        },
        "id": "vKqHEyx_UGWc",
        "outputId": "882e8a9c-2c3e-4edc-8054-398df7cfe417"
      },
      "execution_count": null,
      "outputs": [
        {
          "output_type": "execute_result",
          "data": {
            "text/plain": [
              "'bahubali'"
            ],
            "application/vnd.google.colaboratory.intrinsic+json": {
              "type": "string"
            }
          },
          "metadata": {},
          "execution_count": 15
        }
      ]
    },
    {
      "cell_type": "code",
      "source": [
        "names = {'a':'amma','b':'nanna'}\n",
        "names['a']"
      ],
      "metadata": {
        "id": "JhaEyq5TUheM",
        "colab": {
          "base_uri": "https://localhost:8080/",
          "height": 36
        },
        "outputId": "5ca449d6-8bdc-44f3-a80f-abc509e6308b"
      },
      "execution_count": null,
      "outputs": [
        {
          "output_type": "execute_result",
          "data": {
            "text/plain": [
              "'amma'"
            ],
            "application/vnd.google.colaboratory.intrinsic+json": {
              "type": "string"
            }
          },
          "metadata": {},
          "execution_count": 16
        }
      ]
    },
    {
      "cell_type": "code",
      "source": [
        "# dictionary methodss\n",
        "# clear:removes all items from dictionary\n"
      ],
      "metadata": {
        "id": "wM6lRE90hnxn"
      },
      "execution_count": null,
      "outputs": []
    },
    {
      "cell_type": "code",
      "source": [
        "d = {'a':'1','b':'2','c':'3'}\n",
        "d.clear()\n",
        "print(d)"
      ],
      "metadata": {
        "colab": {
          "base_uri": "https://localhost:8080/"
        },
        "id": "DHBjNJvrjmCQ",
        "outputId": "c92f4523-b38b-4152-c842-9ad9787aebbd"
      },
      "execution_count": null,
      "outputs": [
        {
          "output_type": "stream",
          "name": "stdout",
          "text": [
            "{}\n"
          ]
        }
      ]
    },
    {
      "cell_type": "code",
      "source": [
        "#Copy\n",
        "# returns a copy of dictionary\n",
        "d ={'a':'122','b':'222','c':'322'}\n",
        "d1 =d.copy()\n",
        "print(d1)"
      ],
      "metadata": {
        "colab": {
          "base_uri": "https://localhost:8080/"
        },
        "id": "kWkGMUOGkU8t",
        "outputId": "bc4adcf2-7603-45c1-deb0-1522efee5e46"
      },
      "execution_count": null,
      "outputs": [
        {
          "output_type": "stream",
          "name": "stdout",
          "text": [
            "{'a': '122', 'b': '222', 'c': '322'}\n"
          ]
        }
      ]
    },
    {
      "cell_type": "code",
      "source": [
        "#fromkeys\n",
        "# creates a new dictionary with the given keys and values\n",
        "subbu = ['a','b','c']\n",
        "laxman = 2\n",
        "d= d.fromkeys(subbu,laxman)\n",
        "print(d)"
      ],
      "metadata": {
        "colab": {
          "base_uri": "https://localhost:8080/"
        },
        "id": "cqhRn2a-k25z",
        "outputId": "9ba07c9f-2e67-4d2e-ecca-a36a463ca13c"
      },
      "execution_count": null,
      "outputs": [
        {
          "output_type": "stream",
          "name": "stdout",
          "text": [
            "{'a': 2, 'b': 2, 'c': 2}\n"
          ]
        }
      ]
    },
    {
      "cell_type": "code",
      "source": [
        "# get()\n",
        "# returns the value for given key if it exists\n",
        "d = {'a':'11','b':'2'}\n",
        "d.get('a')"
      ],
      "metadata": {
        "colab": {
          "base_uri": "https://localhost:8080/",
          "height": 36
        },
        "id": "w56IVzz0lwaZ",
        "outputId": "23d808aa-5405-482b-894f-82a6d80019d8"
      },
      "execution_count": null,
      "outputs": [
        {
          "output_type": "execute_result",
          "data": {
            "text/plain": [
              "'11'"
            ],
            "application/vnd.google.colaboratory.intrinsic+json": {
              "type": "string"
            }
          },
          "metadata": {},
          "execution_count": 28
        }
      ]
    },
    {
      "cell_type": "code",
      "source": [
        "# items()\n",
        "# returns al items in dictionary\n",
        "d= {'a':'subbu','b':'laxman','c':'abhi'}\n",
        "d.items()"
      ],
      "metadata": {
        "colab": {
          "base_uri": "https://localhost:8080/"
        },
        "id": "1HRRydRzmRY3",
        "outputId": "f1299184-a33e-4b23-d21a-00e5c9eaf215"
      },
      "execution_count": null,
      "outputs": [
        {
          "output_type": "execute_result",
          "data": {
            "text/plain": [
              "dict_items([('a', 'subbu'), ('b', 'laxman'), ('c', 'abhi')])"
            ]
          },
          "metadata": {},
          "execution_count": 29
        }
      ]
    },
    {
      "cell_type": "code",
      "source": [
        "# keys\n",
        "# returns all keys in given dictionary\n",
        "tiger = {'a':1,\"b\":2,'c':'3'}\n",
        "tiger.keys()"
      ],
      "metadata": {
        "colab": {
          "base_uri": "https://localhost:8080/"
        },
        "id": "E9bYU2chmvrI",
        "outputId": "aee9901d-ce3f-471a-b826-629cc60d23c8"
      },
      "execution_count": null,
      "outputs": [
        {
          "output_type": "execute_result",
          "data": {
            "text/plain": [
              "dict_keys(['a', 'b', 'c'])"
            ]
          },
          "metadata": {},
          "execution_count": 30
        }
      ]
    },
    {
      "cell_type": "code",
      "source": [
        "# values\n",
        "# returns all values in given dictionary\n",
        "tiger = {'a':1,\"b\":2,'c':'3'}\n",
        "tiger.values()"
      ],
      "metadata": {
        "colab": {
          "base_uri": "https://localhost:8080/"
        },
        "id": "f3r_Oo0XnGS2",
        "outputId": "062637e5-7cab-4fa7-d68a-a68ed76d8aa0"
      },
      "execution_count": null,
      "outputs": [
        {
          "output_type": "execute_result",
          "data": {
            "text/plain": [
              "dict_values([1, 2, '3'])"
            ]
          },
          "metadata": {},
          "execution_count": 31
        }
      ]
    },
    {
      "cell_type": "code",
      "source": [
        "# pop\n",
        "# removes and returns the value for given key\n",
        "a = {'a':1,\"b\":2,'c':'3'}\n",
        "a.pop('a')\n",
        "print(a)"
      ],
      "metadata": {
        "colab": {
          "base_uri": "https://localhost:8080/"
        },
        "id": "OVm-V3SknUmT",
        "outputId": "b5f5491c-ea81-4ca1-8a97-281c9dadd61a"
      },
      "execution_count": null,
      "outputs": [
        {
          "output_type": "stream",
          "name": "stdout",
          "text": [
            "{'b': 2, 'c': '3'}\n"
          ]
        }
      ]
    },
    {
      "cell_type": "code",
      "source": [
        "# popitem\n",
        "# removes and returns the last key value pair\n",
        "a = {'a':1,\"b\":2,'c':'3'}\n",
        "a.popitem()\n",
        "print(a)\n"
      ],
      "metadata": {
        "colab": {
          "base_uri": "https://localhost:8080/"
        },
        "id": "bGWw8pcpn4rs",
        "outputId": "e6a033da-0322-4f52-8463-8b589f1a848a"
      },
      "execution_count": null,
      "outputs": [
        {
          "output_type": "stream",
          "name": "stdout",
          "text": [
            "{'a': 1, 'b': 2}\n"
          ]
        }
      ]
    },
    {
      "cell_type": "code",
      "source": [],
      "metadata": {
        "id": "S9Af85GKn7Y0"
      },
      "execution_count": null,
      "outputs": []
    }
  ]
}